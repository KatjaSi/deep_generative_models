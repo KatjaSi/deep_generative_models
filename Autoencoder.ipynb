{
 "cells": [
  {
   "cell_type": "code",
   "execution_count": 1,
   "id": "bcfa825f",
   "metadata": {},
   "outputs": [],
   "source": [
    "import torch\n",
    "import torch.nn as nn\n",
    "import torch.optim as optim\n",
    "from torchvision import datasets, transforms\n",
    "import torch.nn.functional as F\n",
    "import matplotlib.pyplot as plt\n",
    "\n",
    "from autoencoder import Autoencoder, Autoencoder_cnn\n",
    "from stacked_mnist import StackedMNISTData, DataMode"
   ]
  },
  {
   "cell_type": "code",
   "execution_count": 132,
   "id": "be17b3f0",
   "metadata": {},
   "outputs": [],
   "source": [
    "#transform = transforms.ToTensor()\n",
    "#mnist_data = datasets.MNIST(root = './data', train=True, download=True, transform=transform)\n",
    "##data_loader = torch.utils.data.DataLoader(dataset=mnist_data, \n",
    "  #                                        batch_size=64,\n",
    "   #                                       shuffle=True)"
   ]
  },
  {
   "cell_type": "markdown",
   "id": "e39722b7",
   "metadata": {},
   "source": [
    "## Convolutional Autoencoder"
   ]
  },
  {
   "cell_type": "code",
   "execution_count": 3,
   "id": "3daa671f",
   "metadata": {},
   "outputs": [],
   "source": [
    "model = Autoencoder_cnn(criterion = nn.MSELoss())\n",
    "#criterion = nn.MSELoss()\n",
    "#optimizer = torch.optim.Adam(model.parameters(), lr=0.001)"
   ]
  },
  {
   "cell_type": "code",
   "execution_count": 4,
   "id": "c5280291",
   "metadata": {},
   "outputs": [],
   "source": [
    "gen = StackedMNISTData(mode=DataMode.MONO_FLOAT_COMPLETE)"
   ]
  },
  {
   "cell_type": "code",
   "execution_count": 104,
   "id": "a52a9e61",
   "metadata": {},
   "outputs": [],
   "source": [
    "#dataset = gen.get_full_data_set()"
   ]
  },
  {
   "cell_type": "code",
   "execution_count": 121,
   "id": "55faeddc",
   "metadata": {},
   "outputs": [
    {
     "data": {
      "text/plain": [
       "torch.Size([60000, 1, 28, 28])"
      ]
     },
     "execution_count": 121,
     "metadata": {},
     "output_type": "execute_result"
    }
   ],
   "source": [
    "#torch.tensor(dataset[0],dtype=torch.float32).permute(0,3,1,2).shape"
   ]
  },
  {
   "cell_type": "code",
   "execution_count": 129,
   "id": "7f6f18c7",
   "metadata": {},
   "outputs": [
    {
     "name": "stdout",
     "output_type": "stream",
     "text": [
      "3752\n"
     ]
    }
   ],
   "source": [
    "num_epochs = 4\n",
    "outputs = []\n",
    "u=0\n",
    "for epoch in range(num_epochs):\n",
    "    for (img,_) in gen.batch_generator(training=True, batch_size=64):\n",
    "        img = torch.tensor(img, dtype=torch.float32)\n",
    "        img = img.permute(0,3,1,2)\n",
    "      #  recon = model(img)\n",
    "       # loss = criterion(recon,img)\n",
    "       # optimizer.zero_grad()\n",
    "        #loss.backward()\n",
    "        #optimizer.step()\n",
    "   # print(f\"Epoch:{epoch+1}, Loss:{loss.item():.4f}\")\n",
    "   # outputs.append((epoch,img,recon))\n"
   ]
  },
  {
   "cell_type": "code",
   "execution_count": 130,
   "id": "4bf1be76",
   "metadata": {},
   "outputs": [
    {
     "ename": "SyntaxError",
     "evalue": "invalid syntax (3299433231.py, line 1)",
     "output_type": "error",
     "traceback": [
      "\u001b[1;36m  Input \u001b[1;32mIn [130]\u001b[1;36m\u001b[0m\n\u001b[1;33m    *for k in range(0, num_epochs, 4):\u001b[0m\n\u001b[1;37m     ^\u001b[0m\n\u001b[1;31mSyntaxError\u001b[0m\u001b[1;31m:\u001b[0m invalid syntax\n"
     ]
    }
   ],
   "source": [
    "for k in range(0, num_epochs, 4):\n",
    "    plt.figure(figsize=(9,2))\n",
    "    plt.gray()\n",
    "    imgs = outputs[k][1].detach().numpy()\n",
    "    recon = outputs[k][2].detach().numpy()\n",
    "    for i, item in enumerate(imgs):\n",
    "        if i >= 9: break\n",
    "        plt.subplot(2,9,i+1)\n",
    "        plt.imshow(item[0])\n",
    "            \n",
    "    for i, item in enumerate(recon):\n",
    "        if i >= 9: break\n",
    "        plt.subplot(2,9,9+i+1)\n",
    "        plt.imshow(item[0])"
   ]
  },
  {
   "cell_type": "markdown",
   "id": "e9f13940",
   "metadata": {},
   "source": [
    "# Assignment"
   ]
  },
  {
   "cell_type": "code",
   "execution_count": 5,
   "id": "34a0dec8",
   "metadata": {},
   "outputs": [
    {
     "name": "stdout",
     "output_type": "stream",
     "text": [
      "Batch has size: Images: (2048, 28, 28, 1); Labels (2048,)\n",
      "Batch has size: Images: (2048, 28, 28, 1); Labels (2048,)\n",
      "Batch has size: Images: (2048, 28, 28, 1); Labels (2048,)\n",
      "Batch has size: Images: (2048, 28, 28, 1); Labels (2048,)\n",
      "Batch has size: Images: (1808, 28, 28, 1); Labels (1808,)\n"
     ]
    }
   ],
   "source": [
    "gen = StackedMNISTData(mode=DataMode.MONO_BINARY_COMPLETE, default_batch_size=10)\n",
    "#img, cls = gen.get_random_batch(batch_size=10)\n",
    "#gen.plot_example(images=img, labels=cls)\n",
    "\n",
    "for (img, cls) in gen.batch_generator(training=False, batch_size=2048):\n",
    "    print(f\"Batch has size: Images: {img.shape}; Labels {cls.shape}\")"
   ]
  },
  {
   "cell_type": "code",
   "execution_count": 38,
   "id": "ff7662ce",
   "metadata": {},
   "outputs": [],
   "source": [
    "model = Autoencoder_cnn(criterion = nn.MSELoss())\n",
    "#criterion =  nn.MSELoss() #nn.BCELoss()\n",
    "#optimizer = torch.optim.Adam(model.parameters(), lr=0.001)"
   ]
  },
  {
   "cell_type": "code",
   "execution_count": 6,
   "id": "d0d3c9e6",
   "metadata": {},
   "outputs": [],
   "source": [
    "gen = StackedMNISTData(mode=DataMode.MONO_FLOAT_COMPLETE, default_batch_size=10)"
   ]
  },
  {
   "cell_type": "code",
   "execution_count": 7,
   "id": "727139dc",
   "metadata": {},
   "outputs": [],
   "source": [
    "#num_epochs = 10\n",
    "#outputs = []\n",
    "\n",
    "#for epoch in range(num_epochs):\n",
    " #   for (img,_) in gen.batch_generator(training=True, batch_size=64):\n",
    "  #      img = torch.tensor(img, dtype=torch.float32)\n",
    "   #     img = img.permute(0,3,1,2)\n",
    "    #    recon = model(img)\n",
    "     #   loss = criterion(recon,img)\n",
    "     #   optimizer.zero_grad()\n",
    "      #  loss.backward()\n",
    "       # optimizer.step()\n",
    "    #print(f\"Epoch:{epoch+1}, Loss:{loss.item():.4f}\")\n",
    "    #outputs.append((epoch,img,recon))"
   ]
  },
  {
   "cell_type": "code",
   "execution_count": null,
   "id": "f6be19a3",
   "metadata": {},
   "outputs": [],
   "source": [
    "#for k in range(0, num_epochs, 4):\n",
    " #   plt.figure(figsize=(9,2))\n",
    "  #  plt.gray()\n",
    "   # imgs = outputs[k][1].detach().numpy()\n",
    "    #recon = outputs[k][2].detach().numpy()\n",
    "    #for i, item in enumerate(imgs):\n",
    "     #   if i >= 9: break\n",
    "      #  plt.subplot(2,9,i+1)\n",
    "      #  plt.imshow(item[0])\n",
    "            \n",
    "    #for i, item in enumerate(recon):\n",
    "     #   if i >= 9: break\n",
    "      #  plt.subplot(2,9,9+i+1)\n",
    "       # plt.imshow(item[0])"
   ]
  },
  {
   "cell_type": "code",
   "execution_count": 100,
   "id": "8bb15e0c",
   "metadata": {},
   "outputs": [
    {
     "data": {
      "image/png": "[encoded data removed]",
      "text/plain": [
       "<Figure size 432x288 with 1 Axes>"
      ]
     },
     "metadata": {
      "needs_background": "light"
     },
     "output_type": "display_data"
    }
   ],
   "source": [
    "#for (img,_) in gen.batch_generator(training=True, batch_size=64):\n",
    " #   img = torch.tensor(img, dtype=torch.float32)\n",
    "  #  #print(img.permute(0,3,1,2).shape)\n",
    "   # plt.imshow(img.permute(0,3,1,2)[0][0])\n",
    "    #img = img.permute(0,3,1,2)"
   ]
  },
  {
   "cell_type": "code",
   "execution_count": 143,
   "id": "a2d69a48",
   "metadata": {},
   "outputs": [
    {
     "data": {
      "image/png": "[encoded data removed]",
      "text/plain": [
       "<Figure size 432x288 with 1 Axes>"
      ]
     },
     "metadata": {
      "needs_background": "light"
     },
     "output_type": "display_data"
    }
   ],
   "source": [
    "gen = StackedMNISTData(mode=DataMode.MONO_FLOAT_COMPLETE, default_batch_size=64)\n",
    "batch_generator = gen.batch_generator(training=True, batch_size=64)\n",
    "\n",
    "for epoch in range(num_epochs):\n",
    "    for img,_ in batch_generator: \n",
    "        img = torch.tensor(img, dtype=torch.float32)\n",
    "        img = img.permute(0,3,1,2)\n",
    "        recon = model(img)\n",
    "        #if torch.any(torch.isnan(img)).item():\n",
    "         #   print(torch.any(torch.isnan(img)))\n",
    "        plt.imshow(recon.detach().numpy()[0][0])"
   ]
  },
  {
   "cell_type": "code",
   "execution_count": 146,
   "id": "573998af",
   "metadata": {},
   "outputs": [
    {
     "name": "stdout",
     "output_type": "stream",
     "text": [
      "Epoch:1, Loss:0.0069\n",
      "Epoch:2, Loss:0.0050\n",
      "Epoch:3, Loss:0.0035\n",
      "Epoch:4, Loss:0.0032\n"
     ]
    }
   ],
   "source": [
    "transform = transforms.ToTensor()\n",
    "mnist_data = datasets.MNIST(root = './data', train=True, download=True, transform=transform)\n",
    "data_loader = torch.utils.data.DataLoader(dataset=mnist_data, \n",
    "                                            batch_size=64,\n",
    "                                            shuffle=True)\n",
    "model = Autoencoder_cnn()\n",
    "criterion = nn.MSELoss()\n",
    "optimizer = torch.optim.Adam(model.parameters(), lr=0.001)\n",
    "\n",
    "\n",
    "num_epochs = 4\n",
    "outputs = []\n",
    "u=0\n",
    "\n",
    "\n",
    "for epoch in range(num_epochs):\n",
    "    for (img,_) in data_loader:  #TODO this works \n",
    "        recon = model(img)\n",
    "        loss = criterion(recon,img)\n",
    "        optimizer.zero_grad()\n",
    "        loss.backward()\n",
    "        optimizer.step()\n",
    "\n",
    "    print(f\"Epoch:{epoch+1}, Loss:{loss.item():.4f}\")\n",
    "    outputs.append((epoch,img,recon))"
   ]
  },
  {
   "cell_type": "code",
   "execution_count": null,
   "id": "abed1948",
   "metadata": {},
   "outputs": [],
   "source": [
    "gen = StackedMNISTData(mode=DataMode.MONO_FLOAT_COMPLETE, default_batch_size=64)\n",
    "batch_generator = gen.batch_generator(training=True, batch_size=64)\n",
    "\n",
    "for img,_ in batch_generator: \n",
    "    img = torch.tensor(img, dtype=torch.float32)\n",
    "    img = img.permute(0,3,1,2)\n",
    "       # recon = model(img)\n",
    "        #if torch.any(torch.isnan(img)).item():\n",
    "         #   print(torch.any(torch.isnan(img)))\n",
    "       # plt.imshow(recon.detach().numpy()[0][0])"
   ]
  },
  {
   "cell_type": "code",
   "execution_count": 152,
   "id": "a31223b1",
   "metadata": {},
   "outputs": [
    {
     "data": {
      "text/plain": [
       "torch.Size([32, 1, 28, 28])"
      ]
     },
     "execution_count": 152,
     "metadata": {},
     "output_type": "execute_result"
    }
   ],
   "source": [
    "img.shape"
   ]
  },
  {
   "cell_type": "code",
   "execution_count": 149,
   "id": "e28ba739",
   "metadata": {},
   "outputs": [],
   "source": [
    "recon = model(img)"
   ]
  },
  {
   "cell_type": "code",
   "execution_count": 150,
   "id": "38867411",
   "metadata": {},
   "outputs": [
    {
     "data": {
      "text/plain": [
       "<matplotlib.image.AxesImage at 0x2259ed65490>"
      ]
     },
     "execution_count": 150,
     "metadata": {},
     "output_type": "execute_result"
    },
    {
     "data": {
      "image/png": "[encoded data removed]",
      "text/plain": [
       "<Figure size 432x288 with 1 Axes>"
      ]
     },
     "metadata": {
      "needs_background": "light"
     },
     "output_type": "display_data"
    }
   ],
   "source": [
    "plt.imshow(recon.detach().numpy()[0][0])"
   ]
  },
  {
   "cell_type": "markdown",
   "id": "5b052279",
   "metadata": {},
   "source": []
  },
  {
   "cell_type": "code",
   "execution_count": null,
   "id": "ae6dcd4f",
   "metadata": {},
   "outputs": [],
   "source": []
  }
 ],
 "metadata": {
  "kernelspec": {
   "display_name": "Python 3 (ipykernel)",
   "language": "python",
   "name": "python3"
  },
  "language_info": {
   "codemirror_mode": {
    "name": "ipython",
    "version": 3
   },
   "file_extension": ".py",
   "mimetype": "text/x-python",
   "name": "python",
   "nbconvert_exporter": "python",
   "pygments_lexer": "ipython3",
   "version": "3.9.12"
  }
 },
 "nbformat": 4,
 "nbformat_minor": 5
}
